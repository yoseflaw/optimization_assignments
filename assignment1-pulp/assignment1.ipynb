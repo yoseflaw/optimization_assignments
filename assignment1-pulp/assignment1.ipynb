{
 "cells": [
  {
   "cell_type": "markdown",
   "metadata": {},
   "source": [
    "# Problem Description"
   ]
  },
  {
   "cell_type": "markdown",
   "metadata": {},
   "source": [
    "A company wants to set up a new distribution network.\n",
    "- There are $N$ possible locations for a distribution center (DC).\n",
    "- Fixed costs per year for opening a distribution center at location $i$ are $F_i$.\n",
    "- Each DC can ship at most $S_i$ pallets.\n",
    "- The total demand per year (in pallets) for each delivery address (DA) $j$ is $D_j$.\n",
    "- The transport costs for one pallet between the DCs and delivery addresses are $c_{ij}$\n",
    "\n",
    "Objective:\n",
    "which DCs will be opened such that the total costs are minimized?\n",
    "Given:\n",
    "- $N=37$\n",
    "- Possible locations for DCs is the same as set of DAs\n",
    "- $S_i=4000$ for all $i$\n",
    "- $D_j=100$ for all locations $j$\n",
    "- $F_i=100000$ for all locations $i$\n",
    "- $c_{ij}$ is equal to the distance between locations (1 per km per pallet) for all locations $i$ and $j$.\n",
    "\n",
    "Possible locations and distances between location are given in the csv file: *locations.csv*.\n",
    "\n",
    "Solve the problem:\n",
    "1. Given $F_i=100000$ for every location $i$\n",
    "2. Given $F_i=150000$ for every location $i$"
   ]
  },
  {
   "cell_type": "markdown",
   "metadata": {},
   "source": [
    "# Optimization Model"
   ]
  },
  {
   "cell_type": "markdown",
   "metadata": {},
   "source": [
    "## Variables"
   ]
  },
  {
   "cell_type": "markdown",
   "metadata": {},
   "source": [
    "Based on the problem description, we define the following variables:\n",
    "- The company has $N={1,...,n}$ possible locations and $M={1,...,m}$ addresses.\n",
    "- For each location $i\\in N$, $F_i$ is the fixed cost per year and $S_i$ is the maximum pallet shipped from the location.\n",
    "- For each address $j\\in M$, $D_j$ is the total demand of the address.\n",
    "- $c_{ij}$ is the cost of sending 1 pallet from location $i$ to address $j$."
   ]
  },
  {
   "cell_type": "markdown",
   "metadata": {},
   "source": [
    "## Decision Variable"
   ]
  },
  {
   "cell_type": "markdown",
   "metadata": {},
   "source": [
    "The decision to open DC in location $i$ is given by $y_i$, a binary variable:\n",
    "- $y_i=1$ if a DC is opened in location $i$\n",
    "- $y_i=0$ otherwise\n",
    "Additionally, the number of pallet sent from DC in location $i$ to address $j$ is given by $x_{ij}$. Therefore, we have $i+ij$ decision variables."
   ]
  },
  {
   "cell_type": "markdown",
   "metadata": {},
   "source": [
    "## Constraints"
   ]
  },
  {
   "cell_type": "markdown",
   "metadata": {},
   "source": [
    "First, demand for each address $j$ should be satisfied through the constraints:\n",
    "- $\\sum^{n}_{i=1}{x_{ij}}=D_j$\n",
    "\n",
    "For each distribution center $i$, the number of pallet sent shall not exceed maximum pallet shipped $S_i$ and also depends whether a distribution center is opened ($y_i$). Thus, for each location $i$, we have the following constraints:\n",
    "- $\\sum^{m}_{j=1}{x_{ij}}\\leq S_iy_i$"
   ]
  },
  {
   "cell_type": "markdown",
   "metadata": {},
   "source": [
    "## Objective Function"
   ]
  },
  {
   "cell_type": "markdown",
   "metadata": {},
   "source": [
    "The yearly total fixed and transportation cost of a feasible decision vector $(x,y)$ is given by $f(x,y)$, where\n",
    "- $f(x,y)=\\sum^{n}_{i=1}{\\sum^{m}_{j=1}{x_{ij}c_{ij}}}+\\sum^{n}_{i=1}{F_iy_i}$"
   ]
  },
  {
   "cell_type": "markdown",
   "metadata": {},
   "source": [
    "## Formulation"
   ]
  },
  {
   "cell_type": "markdown",
   "metadata": {},
   "source": [
    "minimize $f(x,y)=\\sum^{n}_{i=1}{\\sum^{m}_{j=1}{x_{ij}c_{ij}}}+\\sum^{n}_{i=1}{F_iy_i}$\n",
    "\n",
    "subject to\n",
    "- $\\sum^{n}_{i=1}{x_{ij}}=D_j, 1 \\leq j \\leq m$\n",
    "- $\\sum^{m}_{j=1}{x_{ij}}\\leq S_iy_i, 1 \\leq i \\leq n$\n",
    "- $x_{ij}\\geq 0, 1 \\leq i \\leq n, 1 \\leq j \\leq m$\n",
    "- $y_i\\in\\{0,1\\}$"
   ]
  },
  {
   "cell_type": "markdown",
   "metadata": {},
   "source": [
    "# Solution"
   ]
  },
  {
   "cell_type": "code",
   "execution_count": 2,
   "metadata": {},
   "outputs": [],
   "source": [
    "# import all required package\n",
    "\n",
    "import numpy as np\n",
    "import pandas as pd\n",
    "import pulp  # linear programming package for python"
   ]
  },
  {
   "cell_type": "code",
   "execution_count": 3,
   "metadata": {},
   "outputs": [],
   "source": [
    "# The pallet costs are given in the csv file\n",
    "facility_location_distances = pd.read_csv('locations.csv')\n",
    "facility_location_distances = facility_location_distances.set_index('Distance (km)')"
   ]
  },
  {
   "cell_type": "code",
   "execution_count": 4,
   "metadata": {},
   "outputs": [
    {
     "data": {
      "text/html": [
       "<div>\n",
       "<style scoped>\n",
       "    .dataframe tbody tr th:only-of-type {\n",
       "        vertical-align: middle;\n",
       "    }\n",
       "\n",
       "    .dataframe tbody tr th {\n",
       "        vertical-align: top;\n",
       "    }\n",
       "\n",
       "    .dataframe thead th {\n",
       "        text-align: right;\n",
       "    }\n",
       "</style>\n",
       "<table border=\"1\" class=\"dataframe\">\n",
       "  <thead>\n",
       "    <tr style=\"text-align: right;\">\n",
       "      <th></th>\n",
       "      <th>Amsterdam</th>\n",
       "      <th>Antwerp</th>\n",
       "      <th>Athens</th>\n",
       "      <th>Barcelona</th>\n",
       "      <th>Berlin</th>\n",
       "      <th>Bern</th>\n",
       "      <th>Brussels</th>\n",
       "      <th>Calais</th>\n",
       "      <th>Cologne</th>\n",
       "      <th>Copenhagen</th>\n",
       "      <th>...</th>\n",
       "      <th>Prague</th>\n",
       "      <th>Rome</th>\n",
       "      <th>Rotterdam</th>\n",
       "      <th>Strasbourg</th>\n",
       "      <th>Stuttgart</th>\n",
       "      <th>The Hague</th>\n",
       "      <th>Turin</th>\n",
       "      <th>Venice</th>\n",
       "      <th>Vienna</th>\n",
       "      <th>Zurich</th>\n",
       "    </tr>\n",
       "    <tr>\n",
       "      <th>Distance (km)</th>\n",
       "      <th></th>\n",
       "      <th></th>\n",
       "      <th></th>\n",
       "      <th></th>\n",
       "      <th></th>\n",
       "      <th></th>\n",
       "      <th></th>\n",
       "      <th></th>\n",
       "      <th></th>\n",
       "      <th></th>\n",
       "      <th></th>\n",
       "      <th></th>\n",
       "      <th></th>\n",
       "      <th></th>\n",
       "      <th></th>\n",
       "      <th></th>\n",
       "      <th></th>\n",
       "      <th></th>\n",
       "      <th></th>\n",
       "      <th></th>\n",
       "      <th></th>\n",
       "    </tr>\n",
       "  </thead>\n",
       "  <tbody>\n",
       "    <tr>\n",
       "      <th>Amsterdam</th>\n",
       "      <td>0.0</td>\n",
       "      <td>160.0</td>\n",
       "      <td>3082.0</td>\n",
       "      <td>1639.0</td>\n",
       "      <td>649.0</td>\n",
       "      <td>875.0</td>\n",
       "      <td>209.0</td>\n",
       "      <td>385.0</td>\n",
       "      <td>280.0</td>\n",
       "      <td>904.0</td>\n",
       "      <td>...</td>\n",
       "      <td>973.0</td>\n",
       "      <td>1835.0</td>\n",
       "      <td>80.0</td>\n",
       "      <td>683.0</td>\n",
       "      <td>703.0</td>\n",
       "      <td>56.0</td>\n",
       "      <td>1264.0</td>\n",
       "      <td>1449.0</td>\n",
       "      <td>1196.0</td>\n",
       "      <td>861.0</td>\n",
       "    </tr>\n",
       "    <tr>\n",
       "      <th>Antwerp</th>\n",
       "      <td>160.0</td>\n",
       "      <td>0.0</td>\n",
       "      <td>2766.0</td>\n",
       "      <td>1465.0</td>\n",
       "      <td>723.0</td>\n",
       "      <td>704.0</td>\n",
       "      <td>46.0</td>\n",
       "      <td>211.0</td>\n",
       "      <td>237.0</td>\n",
       "      <td>861.0</td>\n",
       "      <td>...</td>\n",
       "      <td>870.0</td>\n",
       "      <td>1660.0</td>\n",
       "      <td>100.0</td>\n",
       "      <td>544.0</td>\n",
       "      <td>659.0</td>\n",
       "      <td>139.0</td>\n",
       "      <td>1090.0</td>\n",
       "      <td>1275.0</td>\n",
       "      <td>1180.0</td>\n",
       "      <td>687.0</td>\n",
       "    </tr>\n",
       "    <tr>\n",
       "      <th>Athens</th>\n",
       "      <td>3082.0</td>\n",
       "      <td>2766.0</td>\n",
       "      <td>0.0</td>\n",
       "      <td>3312.0</td>\n",
       "      <td>2552.0</td>\n",
       "      <td>2627.0</td>\n",
       "      <td>3021.0</td>\n",
       "      <td>2976.0</td>\n",
       "      <td>2562.0</td>\n",
       "      <td>3414.0</td>\n",
       "      <td>...</td>\n",
       "      <td>2198.0</td>\n",
       "      <td>2551.0</td>\n",
       "      <td>2826.0</td>\n",
       "      <td>2581.0</td>\n",
       "      <td>2428.0</td>\n",
       "      <td>3061.0</td>\n",
       "      <td>2250.0</td>\n",
       "      <td>1995.0</td>\n",
       "      <td>1886.0</td>\n",
       "      <td>2449.0</td>\n",
       "    </tr>\n",
       "    <tr>\n",
       "      <th>Barcelona</th>\n",
       "      <td>1639.0</td>\n",
       "      <td>1465.0</td>\n",
       "      <td>3312.0</td>\n",
       "      <td>0.0</td>\n",
       "      <td>1899.0</td>\n",
       "      <td>913.0</td>\n",
       "      <td>1419.0</td>\n",
       "      <td>1399.0</td>\n",
       "      <td>1539.0</td>\n",
       "      <td>2230.0</td>\n",
       "      <td>...</td>\n",
       "      <td>1679.0</td>\n",
       "      <td>1471.0</td>\n",
       "      <td>1565.0</td>\n",
       "      <td>1072.0</td>\n",
       "      <td>1263.0</td>\n",
       "      <td>1589.0</td>\n",
       "      <td>892.0</td>\n",
       "      <td>1327.0</td>\n",
       "      <td>1989.0</td>\n",
       "      <td>1036.0</td>\n",
       "    </tr>\n",
       "    <tr>\n",
       "      <th>Berlin</th>\n",
       "      <td>649.0</td>\n",
       "      <td>723.0</td>\n",
       "      <td>2552.0</td>\n",
       "      <td>1899.0</td>\n",
       "      <td>0.0</td>\n",
       "      <td>986.0</td>\n",
       "      <td>782.0</td>\n",
       "      <td>936.0</td>\n",
       "      <td>575.0</td>\n",
       "      <td>743.0</td>\n",
       "      <td>...</td>\n",
       "      <td>354.0</td>\n",
       "      <td>1573.0</td>\n",
       "      <td>697.0</td>\n",
       "      <td>801.0</td>\n",
       "      <td>636.0</td>\n",
       "      <td>712.0</td>\n",
       "      <td>1172.0</td>\n",
       "      <td>1108.0</td>\n",
       "      <td>666.0</td>\n",
       "      <td>863.0</td>\n",
       "    </tr>\n",
       "  </tbody>\n",
       "</table>\n",
       "<p>5 rows × 37 columns</p>\n",
       "</div>"
      ],
      "text/plain": [
       "               Amsterdam  Antwerp  Athens  Barcelona  Berlin    Bern  \\\n",
       "Distance (km)                                                          \n",
       "Amsterdam            0.0    160.0  3082.0     1639.0   649.0   875.0   \n",
       "Antwerp            160.0      0.0  2766.0     1465.0   723.0   704.0   \n",
       "Athens            3082.0   2766.0     0.0     3312.0  2552.0  2627.0   \n",
       "Barcelona         1639.0   1465.0  3312.0        0.0  1899.0   913.0   \n",
       "Berlin             649.0    723.0  2552.0     1899.0     0.0   986.0   \n",
       "\n",
       "               Brussels  Calais  Cologne  Copenhagen  ...  Prague    Rome  \\\n",
       "Distance (km)                                         ...                   \n",
       "Amsterdam         209.0   385.0    280.0       904.0  ...   973.0  1835.0   \n",
       "Antwerp            46.0   211.0    237.0       861.0  ...   870.0  1660.0   \n",
       "Athens           3021.0  2976.0   2562.0      3414.0  ...  2198.0  2551.0   \n",
       "Barcelona        1419.0  1399.0   1539.0      2230.0  ...  1679.0  1471.0   \n",
       "Berlin            782.0   936.0    575.0       743.0  ...   354.0  1573.0   \n",
       "\n",
       "               Rotterdam  Strasbourg  Stuttgart  The Hague   Turin  Venice  \\\n",
       "Distance (km)                                                                \n",
       "Amsterdam           80.0       683.0      703.0       56.0  1264.0  1449.0   \n",
       "Antwerp            100.0       544.0      659.0      139.0  1090.0  1275.0   \n",
       "Athens            2826.0      2581.0     2428.0     3061.0  2250.0  1995.0   \n",
       "Barcelona         1565.0      1072.0     1263.0     1589.0   892.0  1327.0   \n",
       "Berlin             697.0       801.0      636.0      712.0  1172.0  1108.0   \n",
       "\n",
       "               Vienna  Zurich  \n",
       "Distance (km)                  \n",
       "Amsterdam      1196.0   861.0  \n",
       "Antwerp        1180.0   687.0  \n",
       "Athens         1886.0  2449.0  \n",
       "Barcelona      1989.0  1036.0  \n",
       "Berlin          666.0   863.0  \n",
       "\n",
       "[5 rows x 37 columns]"
      ]
     },
     "execution_count": 4,
     "metadata": {},
     "output_type": "execute_result"
    }
   ],
   "source": [
    "facility_location_distances.head()"
   ]
  },
  {
   "cell_type": "code",
   "execution_count": 5,
   "metadata": {},
   "outputs": [],
   "source": [
    "# initialise variables\n",
    "max_supply_per_city = 4000  # S\n",
    "demand_per_city = 100  # D\n",
    "cities = facility_location_distances.columns.values\n",
    "# get list of locations and distances to calculate costs\n",
    "number_of_cities = len(cities)\n",
    "max_supply = dict(zip(cities, [max_supply_per_city] * len(cities)))\n",
    "demand = dict(zip(cities, [demand_per_city] * len(cities)))"
   ]
  },
  {
   "cell_type": "code",
   "execution_count": 6,
   "metadata": {
    "code_folding": []
   },
   "outputs": [],
   "source": [
    "def facility_location_solver(facility_location_distances, S, D, F):\n",
    "    \"\"\"\n",
    "    function to solve capacitated facility problem given input:\n",
    "        - facility_location_distances <dataframe>: dataframe of every location distances\n",
    "        - S <dict>: maximum number pallets from each distribution center (DC)\n",
    "        - D <dict>: number of pallets required from each delivery address (DA)\n",
    "        - F <dict>: yearly fixed cost for each DC\n",
    "\n",
    "        output: print out of status, total cost, and DC locations\n",
    "    \"\"\"\n",
    "    cities = facility_location_distances.columns.values\n",
    "\n",
    "    # decision variables\n",
    "    # binary variables to open a DC in a city\n",
    "    open_facility = pulp.LpVariable.dicts(\"open facility\",\n",
    "                                          (i for i in cities),\n",
    "                                          cat='Binary')\n",
    "\n",
    "    # integer variables of number of pallets from each DC to every DA\n",
    "    num_pallets = pulp.LpVariable.dicts(\"num pallets\",\n",
    "                                        ((i, j)\n",
    "                                         for i in cities for j in cities),\n",
    "                                        lowBound=0,\n",
    "                                        upBound=None,\n",
    "                                        cat='Integer')\n",
    "\n",
    "    # initialise model\n",
    "    facility_location_problem = pulp.LpProblem(\n",
    "        \"Facility Location Problem\", pulp.LpMinimize)\n",
    "\n",
    "    # objective function\n",
    "    facility_location_problem += pulp.lpSum(\n",
    "        # transportation cost\n",
    "        [num_pallets[i, j] * facility_location_distances.loc[i, j]\n",
    "            for i in cities for j in cities]\n",
    "\n",
    "        # fixed cost\n",
    "        + [open_facility[i] * F[i] for i in cities]\n",
    "    ), \"Total Cost\"\n",
    "\n",
    "    # demand constraint\n",
    "    for j in cities:\n",
    "        facility_location_problem += pulp.lpSum(\n",
    "            num_pallets[i, j] for i in cities) == D[j], \"Demand \" + j\n",
    "\n",
    "    # supply constraint\n",
    "    for i in cities:\n",
    "        facility_location_problem += pulp.lpSum(\n",
    "            num_pallets[i, j] for j in cities) <= open_facility[i] * S[i], \"Supply \" + i\n",
    "\n",
    "    facility_location_problem.solve()\n",
    "    print(\"Status: \" + pulp.LpStatus[facility_location_problem.status])\n",
    "    print(\"Total cost: \" + str(pulp.value(facility_location_problem.objective)))\n",
    "    for v in facility_location_problem.variables():\n",
    "        if 'open_facility' in v.name and v.varValue > 0:\n",
    "            print(v.name.replace('open_facility_', '') + \": \" + str(v.varValue))\n",
    "\n",
    "    return facility_location_problem"
   ]
  },
  {
   "cell_type": "code",
   "execution_count": 7,
   "metadata": {},
   "outputs": [
    {
     "name": "stdout",
     "output_type": "stream",
     "text": [
      "Status: Optimal\n",
      "Total cost: 1684800.0\n",
      "Athens: 1.0\n",
      "Brussels: 1.0\n",
      "Hamburg: 1.0\n",
      "Madrid: 1.0\n",
      "Munich: 1.0\n",
      "Rome: 1.0\n",
      "Turin: 1.0\n"
     ]
    }
   ],
   "source": [
    "# solve for F = 100000\n",
    "fixed_cost_per_dc = 100000  # F\n",
    "fixed_cost = dict(zip(cities, [fixed_cost_per_dc] * len(cities)))\n",
    "facility_problem_f100k = facility_location_solver(\n",
    "    facility_location_distances, max_supply, demand, fixed_cost)"
   ]
  },
  {
   "cell_type": "code",
   "execution_count": 8,
   "metadata": {},
   "outputs": [
    {
     "name": "stdout",
     "output_type": "stream",
     "text": [
      "Status: Optimal\n",
      "Total cost: 2019100.0\n",
      "Antwerp: 1.0\n",
      "Athens: 1.0\n",
      "Madrid: 1.0\n",
      "Munich: 1.0\n",
      "Turin: 1.0\n"
     ]
    }
   ],
   "source": [
    "# solve for F = 150000\n",
    "fixed_cost_per_dc2 = 150000\n",
    "fixed_cost2 = dict(zip(cities, [fixed_cost_per_dc2] * len(cities)))\n",
    "facility_problem_f150k = facility_location_solver(\n",
    "    facility_location_distances, max_supply, demand, fixed_cost2)"
   ]
  },
  {
   "cell_type": "markdown",
   "metadata": {},
   "source": [
    "# Conclusion"
   ]
  },
  {
   "cell_type": "markdown",
   "metadata": {},
   "source": [
    "- Given $F_i=100000$ for every location $i$, the optimal solution is to open 7 DCs in the following cities: Athens, Brussels, Hamburg, Madrid, Munich, Rome, and Turin.\n",
    "- Given $F_i=150000$ for every location $i$, the optimal solution is to open 5 DCs in the following cities: Antwerp, Athens, Madrid, Munich, and Turin."
   ]
  }
 ],
 "metadata": {
  "kernelspec": {
   "display_name": "Python 3",
   "language": "python",
   "name": "python3"
  },
  "language_info": {
   "codemirror_mode": {
    "name": "ipython",
    "version": 3
   },
   "file_extension": ".py",
   "mimetype": "text/x-python",
   "name": "python",
   "nbconvert_exporter": "python",
   "pygments_lexer": "ipython3",
   "version": "3.6.7"
  },
  "varInspector": {
   "cols": {
    "lenName": 16,
    "lenType": 16,
    "lenVar": 40
   },
   "kernels_config": {
    "python": {
     "delete_cmd_postfix": "",
     "delete_cmd_prefix": "del ",
     "library": "var_list.py",
     "varRefreshCmd": "print(var_dic_list())"
    },
    "r": {
     "delete_cmd_postfix": ") ",
     "delete_cmd_prefix": "rm(",
     "library": "var_list.r",
     "varRefreshCmd": "cat(var_dic_list()) "
    }
   },
   "types_to_exclude": [
    "module",
    "function",
    "builtin_function_or_method",
    "instance",
    "_Feature"
   ],
   "window_display": false
  }
 },
 "nbformat": 4,
 "nbformat_minor": 2
}
